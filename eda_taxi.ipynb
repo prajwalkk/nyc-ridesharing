{
 "cells": [
  {
   "cell_type": "code",
   "execution_count": 1,
   "metadata": {},
   "outputs": [],
   "source": [
    "import pandas as pd\n",
    "import numpy as np\n",
    "from datetime import datetime"
   ]
  },
  {
   "cell_type": "code",
   "execution_count": 3,
   "metadata": {},
   "outputs": [],
   "source": [
    "dateparse = lambda x: datetime.strptime(x, '%Y-%m-%d %H:%M:%S')\n",
    "df = pd.read_csv('data\\yellow_tripdata_2016-01.csv', \n",
    "                 dtype={\n",
    "                        \"VendorID\":'Int8',\n",
    "                        \"tpep_pickup_datetime\":'str',\n",
    "                        \"tpep_dropoff_datetime\":'str',\n",
    "                        \"passenger_count\":'Int8',\n",
    "                        \"trip_distance\":'float',\n",
    "                        \"pickup_longitude\":'float',\n",
    "                        \"pickup_latitude\":'float',\n",
    "                        \"RatecodeID\":'category',\n",
    "                        \"store_and_fwd_flag\":'category',\n",
    "                        \"dropoff_longitude\":'float',\n",
    "                        \"dropoff_latitude\":'float',\n",
    "                        \"payment_type\":'category',\n",
    "                        \"fare_amount\":'float',\n",
    "                        \"extra\":'float',\n",
    "                        \"mta_tax\":'float',\n",
    "                        \"tip_amount\":'float',\n",
    "                        \"tolls_amount\":'float',\n",
    "                        \"improvement_surcharge\":'float',\n",
    "                        \"total_amount\":'float',\n",
    "                }, \n",
    "                 parse_dates = [\"tpep_pickup_datetime\", \"tpep_dropoff_datetime\"],\n",
    "                 date_parser = dateparse,\n",
    "                 usecols = [1,2,3,4,5,6,7,9,10])"
   ]
  },
  {
   "cell_type": "code",
   "execution_count": 4,
   "metadata": {},
   "outputs": [],
   "source": [
    "df.to_pickle(\"data\\yellow_tripdata_2016-01.pkl\")"
   ]
  },
  {
   "cell_type": "code",
   "execution_count": 79,
   "metadata": {},
   "outputs": [],
   "source": [
    "# df = pd.read_pickle(\"data\\yellow_tripdata_2016-01.pkl\")"
   ]
  },
  {
   "cell_type": "code",
   "execution_count": 8,
   "metadata": {},
   "outputs": [
    {
     "data": {
      "text/plain": [
       "10906858"
      ]
     },
     "execution_count": 8,
     "metadata": {},
     "output_type": "execute_result"
    }
   ],
   "source": [
    "df.dropna(inplace=True)\n",
    "len(df)"
   ]
  },
  {
   "cell_type": "code",
   "execution_count": 21,
   "metadata": {},
   "outputs": [],
   "source": [
    "drop_indices = df[(df.passenger_count <= 0) | (df.passenger_count >= 3) | (df.dropoff_longitude == 0) | (df.dropoff_latitude == 0) | (df.pickup_longitude == 0) | (df.pickup_latitude == 0) | (df.trip_distance < 0.1) ].index\n",
    "\n",
    "df.drop(drop_indices, inplace=True)"
   ]
  },
  {
   "cell_type": "code",
   "execution_count": 23,
   "metadata": {},
   "outputs": [],
   "source": [
    "df['pickup_latitude'] = df['pickup_latitude'].apply(lambda x: round(x,4))\n",
    "df['dropoff_latitude'] = df['dropoff_latitude'].apply(lambda x: round(x,4))\n",
    "df['pickup_longitude'] = df['pickup_longitude'].apply(lambda x: round(x,4))\n",
    "df['dropoff_longitude'] = df['dropoff_longitude'].apply(lambda x: round(x,4))\n",
    "df.index = np.arange(1, len(df) + 1)"
   ]
  },
  {
   "cell_type": "code",
   "execution_count": 35,
   "metadata": {},
   "outputs": [],
   "source": [
    "df.to_pickle(r\"data\\final_input_data.pkl\")"
   ]
  },
  {
   "cell_type": "code",
   "execution_count": 33,
   "metadata": {},
   "outputs": [],
   "source": [
    "df.to_csv(r\"data\\final_input_data.csv\", index_label=\"Trip_Id\")"
   ]
  },
  {
   "cell_type": "code",
   "execution_count": 32,
   "metadata": {},
   "outputs": [
    {
     "data": {
      "text/html": [
       "<div>\n",
       "<style scoped>\n",
       "    .dataframe tbody tr th:only-of-type {\n",
       "        vertical-align: middle;\n",
       "    }\n",
       "\n",
       "    .dataframe tbody tr th {\n",
       "        vertical-align: top;\n",
       "    }\n",
       "\n",
       "    .dataframe thead th {\n",
       "        text-align: right;\n",
       "    }\n",
       "</style>\n",
       "<table border=\"1\" class=\"dataframe\">\n",
       "  <thead>\n",
       "    <tr style=\"text-align: right;\">\n",
       "      <th></th>\n",
       "      <th>tpep_pickup_datetime</th>\n",
       "      <th>tpep_dropoff_datetime</th>\n",
       "      <th>passenger_count</th>\n",
       "      <th>trip_distance</th>\n",
       "      <th>pickup_longitude</th>\n",
       "      <th>pickup_latitude</th>\n",
       "      <th>dropoff_longitude</th>\n",
       "      <th>dropoff_latitude</th>\n",
       "    </tr>\n",
       "  </thead>\n",
       "  <tbody>\n",
       "  </tbody>\n",
       "</table>\n",
       "</div>"
      ],
      "text/plain": [
       "Empty DataFrame\n",
       "Columns: [tpep_pickup_datetime, tpep_dropoff_datetime, passenger_count, trip_distance, pickup_longitude, pickup_latitude, dropoff_longitude, dropoff_latitude]\n",
       "Index: []"
      ]
     },
     "execution_count": 32,
     "metadata": {},
     "output_type": "execute_result"
    }
   ],
   "source": [
    "# 40.7769° N, 73.8740° W\n",
    "df[(df.pickup_latitude == 40) & (df.pickup_longitude == -73)]"
   ]
  }
 ],
 "metadata": {
  "kernelspec": {
   "display_name": "Python 3",
   "language": "python",
   "name": "python3"
  },
  "language_info": {
   "codemirror_mode": {
    "name": "ipython",
    "version": 3
   },
   "file_extension": ".py",
   "mimetype": "text/x-python",
   "name": "python",
   "nbconvert_exporter": "python",
   "pygments_lexer": "ipython3",
   "version": "3.8.5"
  }
 },
 "nbformat": 4,
 "nbformat_minor": 4
}
