{
 "cells": [
  {
   "cell_type": "code",
   "execution_count": 90,
   "metadata": {},
   "outputs": [],
   "source": [
    "import pandas as pd\n",
    "import networkx as nx\n",
    "import matplotlib.pyplot as plt\n",
    "from itertools import combinations"
   ]
  },
  {
   "cell_type": "markdown",
   "metadata": {},
   "source": [
    "Feel free to experiment with different pool csv's. Beware: many rides means messy visualizations!"
   ]
  },
  {
   "cell_type": "code",
   "execution_count": 91,
   "metadata": {},
   "outputs": [],
   "source": [
    "input_data = pd.read_csv(\"taxi_data_20190101_001500.csv\",index_col=0)\n",
    "interzonal_dist = pd.read_csv(\"interzonal.csv\")"
   ]
  },
  {
   "cell_type": "code",
   "execution_count": 101,
   "metadata": {},
   "outputs": [
    {
     "data": {
      "text/html": [
       "<div>\n",
       "<style scoped>\n",
       "    .dataframe tbody tr th:only-of-type {\n",
       "        vertical-align: middle;\n",
       "    }\n",
       "\n",
       "    .dataframe tbody tr th {\n",
       "        vertical-align: top;\n",
       "    }\n",
       "\n",
       "    .dataframe thead th {\n",
       "        text-align: right;\n",
       "    }\n",
       "</style>\n",
       "<table border=\"1\" class=\"dataframe\">\n",
       "  <thead>\n",
       "    <tr style=\"text-align: right;\">\n",
       "      <th></th>\n",
       "      <th>id</th>\n",
       "      <th>tpep_pickup_datetime</th>\n",
       "      <th>tpep_dropoff_datetime</th>\n",
       "      <th>passenger_count</th>\n",
       "      <th>PULocationID</th>\n",
       "      <th>DOLocationID</th>\n",
       "    </tr>\n",
       "  </thead>\n",
       "  <tbody>\n",
       "    <tr>\n",
       "      <th>0</th>\n",
       "      <td>6606</td>\n",
       "      <td>2019-01-01 00:15:49</td>\n",
       "      <td>2019-01-01 00:50:03</td>\n",
       "      <td>1</td>\n",
       "      <td>138</td>\n",
       "      <td>181</td>\n",
       "    </tr>\n",
       "    <tr>\n",
       "      <th>1</th>\n",
       "      <td>9596</td>\n",
       "      <td>2019-01-01 00:18:09</td>\n",
       "      <td>2019-01-01 00:41:11</td>\n",
       "      <td>1</td>\n",
       "      <td>161</td>\n",
       "      <td>138</td>\n",
       "    </tr>\n",
       "    <tr>\n",
       "      <th>2</th>\n",
       "      <td>1086</td>\n",
       "      <td>2019-01-01 00:19:03</td>\n",
       "      <td>2019-01-01 00:39:35</td>\n",
       "      <td>2</td>\n",
       "      <td>138</td>\n",
       "      <td>181</td>\n",
       "    </tr>\n",
       "    <tr>\n",
       "      <th>3</th>\n",
       "      <td>24</td>\n",
       "      <td>2019-01-01 00:19:55</td>\n",
       "      <td>2019-01-01 00:57:56</td>\n",
       "      <td>1</td>\n",
       "      <td>138</td>\n",
       "      <td>50</td>\n",
       "    </tr>\n",
       "  </tbody>\n",
       "</table>\n",
       "</div>"
      ],
      "text/plain": [
       "     id tpep_pickup_datetime tpep_dropoff_datetime  passenger_count  \\\n",
       "0  6606  2019-01-01 00:15:49   2019-01-01 00:50:03                1   \n",
       "1  9596  2019-01-01 00:18:09   2019-01-01 00:41:11                1   \n",
       "2  1086  2019-01-01 00:19:03   2019-01-01 00:39:35                2   \n",
       "3    24  2019-01-01 00:19:55   2019-01-01 00:57:56                1   \n",
       "\n",
       "   PULocationID  DOLocationID  \n",
       "0           138           181  \n",
       "1           161           138  \n",
       "2           138           181  \n",
       "3           138            50  "
      ]
     },
     "execution_count": 101,
     "metadata": {},
     "output_type": "execute_result"
    }
   ],
   "source": [
    "input_data.head()"
   ]
  },
  {
   "cell_type": "code",
   "execution_count": 93,
   "metadata": {},
   "outputs": [
    {
     "data": {
      "text/html": [
       "<div>\n",
       "<style scoped>\n",
       "    .dataframe tbody tr th:only-of-type {\n",
       "        vertical-align: middle;\n",
       "    }\n",
       "\n",
       "    .dataframe tbody tr th {\n",
       "        vertical-align: top;\n",
       "    }\n",
       "\n",
       "    .dataframe thead th {\n",
       "        text-align: right;\n",
       "    }\n",
       "</style>\n",
       "<table border=\"1\" class=\"dataframe\">\n",
       "  <thead>\n",
       "    <tr style=\"text-align: right;\">\n",
       "      <th></th>\n",
       "      <th>0</th>\n",
       "      <th>1</th>\n",
       "      <th>2</th>\n",
       "      <th>3</th>\n",
       "      <th>4</th>\n",
       "      <th>5</th>\n",
       "      <th>6</th>\n",
       "      <th>7</th>\n",
       "      <th>8</th>\n",
       "      <th>9</th>\n",
       "      <th>...</th>\n",
       "      <th>253</th>\n",
       "      <th>254</th>\n",
       "      <th>255</th>\n",
       "      <th>256</th>\n",
       "      <th>257</th>\n",
       "      <th>258</th>\n",
       "      <th>259</th>\n",
       "      <th>260</th>\n",
       "      <th>261</th>\n",
       "      <th>262</th>\n",
       "    </tr>\n",
       "  </thead>\n",
       "  <tbody>\n",
       "    <tr>\n",
       "      <th>0</th>\n",
       "      <td>0.0</td>\n",
       "      <td>46390.2</td>\n",
       "      <td>56813.2</td>\n",
       "      <td>34410.0</td>\n",
       "      <td>13834.9</td>\n",
       "      <td>13256.2</td>\n",
       "      <td>40598.2</td>\n",
       "      <td>41862.0</td>\n",
       "      <td>50006.8</td>\n",
       "      <td>46375.7</td>\n",
       "      <td>...</td>\n",
       "      <td>58781.9</td>\n",
       "      <td>34403.2</td>\n",
       "      <td>33748.3</td>\n",
       "      <td>23309.2</td>\n",
       "      <td>43392.1</td>\n",
       "      <td>60676.5</td>\n",
       "      <td>39255.3</td>\n",
       "      <td>29611.7</td>\n",
       "      <td>41990.4</td>\n",
       "      <td>42506.5</td>\n",
       "    </tr>\n",
       "    <tr>\n",
       "      <th>1</th>\n",
       "      <td>46340.8</td>\n",
       "      <td>0.0</td>\n",
       "      <td>33936.3</td>\n",
       "      <td>22108.1</td>\n",
       "      <td>49248.5</td>\n",
       "      <td>33819.3</td>\n",
       "      <td>28398.1</td>\n",
       "      <td>28693.7</td>\n",
       "      <td>21076.1</td>\n",
       "      <td>12127.1</td>\n",
       "      <td>...</td>\n",
       "      <td>36534.7</td>\n",
       "      <td>19707.0</td>\n",
       "      <td>19219.8</td>\n",
       "      <td>18987.1</td>\n",
       "      <td>8917.7</td>\n",
       "      <td>38555.3</td>\n",
       "      <td>18936.4</td>\n",
       "      <td>26857.9</td>\n",
       "      <td>26713.8</td>\n",
       "      <td>27229.9</td>\n",
       "    </tr>\n",
       "    <tr>\n",
       "      <th>2</th>\n",
       "      <td>58987.0</td>\n",
       "      <td>35229.4</td>\n",
       "      <td>0.0</td>\n",
       "      <td>25979.5</td>\n",
       "      <td>61894.8</td>\n",
       "      <td>46453.8</td>\n",
       "      <td>16981.5</td>\n",
       "      <td>16956.5</td>\n",
       "      <td>16807.1</td>\n",
       "      <td>25213.3</td>\n",
       "      <td>...</td>\n",
       "      <td>3008.8</td>\n",
       "      <td>28687.9</td>\n",
       "      <td>28788.4</td>\n",
       "      <td>36915.2</td>\n",
       "      <td>25550.7</td>\n",
       "      <td>5237.2</td>\n",
       "      <td>22664.8</td>\n",
       "      <td>29779.4</td>\n",
       "      <td>18016.7</td>\n",
       "      <td>18532.8</td>\n",
       "    </tr>\n",
       "    <tr>\n",
       "      <th>3</th>\n",
       "      <td>33650.0</td>\n",
       "      <td>22875.7</td>\n",
       "      <td>22646.4</td>\n",
       "      <td>0.0</td>\n",
       "      <td>36557.8</td>\n",
       "      <td>21116.8</td>\n",
       "      <td>10092.7</td>\n",
       "      <td>10824.1</td>\n",
       "      <td>21550.5</td>\n",
       "      <td>25507.6</td>\n",
       "      <td>...</td>\n",
       "      <td>24615.1</td>\n",
       "      <td>5426.0</td>\n",
       "      <td>3701.1</td>\n",
       "      <td>13404.1</td>\n",
       "      <td>14596.3</td>\n",
       "      <td>26509.7</td>\n",
       "      <td>10471.6</td>\n",
       "      <td>5806.3</td>\n",
       "      <td>7823.5</td>\n",
       "      <td>8339.6</td>\n",
       "    </tr>\n",
       "    <tr>\n",
       "      <th>4</th>\n",
       "      <td>12559.6</td>\n",
       "      <td>49367.0</td>\n",
       "      <td>59790.1</td>\n",
       "      <td>37386.8</td>\n",
       "      <td>0.0</td>\n",
       "      <td>14894.5</td>\n",
       "      <td>43575.1</td>\n",
       "      <td>44838.9</td>\n",
       "      <td>52983.7</td>\n",
       "      <td>49352.6</td>\n",
       "      <td>...</td>\n",
       "      <td>61758.8</td>\n",
       "      <td>37380.0</td>\n",
       "      <td>36725.2</td>\n",
       "      <td>26286.1</td>\n",
       "      <td>46369.0</td>\n",
       "      <td>63653.4</td>\n",
       "      <td>42232.2</td>\n",
       "      <td>32588.6</td>\n",
       "      <td>44967.2</td>\n",
       "      <td>45483.4</td>\n",
       "    </tr>\n",
       "  </tbody>\n",
       "</table>\n",
       "<p>5 rows × 263 columns</p>\n",
       "</div>"
      ],
      "text/plain": [
       "         0        1        2        3        4        5        6        7  \\\n",
       "0      0.0  46390.2  56813.2  34410.0  13834.9  13256.2  40598.2  41862.0   \n",
       "1  46340.8      0.0  33936.3  22108.1  49248.5  33819.3  28398.1  28693.7   \n",
       "2  58987.0  35229.4      0.0  25979.5  61894.8  46453.8  16981.5  16956.5   \n",
       "3  33650.0  22875.7  22646.4      0.0  36557.8  21116.8  10092.7  10824.1   \n",
       "4  12559.6  49367.0  59790.1  37386.8      0.0  14894.5  43575.1  44838.9   \n",
       "\n",
       "         8        9  ...      253      254      255      256      257  \\\n",
       "0  50006.8  46375.7  ...  58781.9  34403.2  33748.3  23309.2  43392.1   \n",
       "1  21076.1  12127.1  ...  36534.7  19707.0  19219.8  18987.1   8917.7   \n",
       "2  16807.1  25213.3  ...   3008.8  28687.9  28788.4  36915.2  25550.7   \n",
       "3  21550.5  25507.6  ...  24615.1   5426.0   3701.1  13404.1  14596.3   \n",
       "4  52983.7  49352.6  ...  61758.8  37380.0  36725.2  26286.1  46369.0   \n",
       "\n",
       "       258      259      260      261      262  \n",
       "0  60676.5  39255.3  29611.7  41990.4  42506.5  \n",
       "1  38555.3  18936.4  26857.9  26713.8  27229.9  \n",
       "2   5237.2  22664.8  29779.4  18016.7  18532.8  \n",
       "3  26509.7  10471.6   5806.3   7823.5   8339.6  \n",
       "4  63653.4  42232.2  32588.6  44967.2  45483.4  \n",
       "\n",
       "[5 rows x 263 columns]"
      ]
     },
     "execution_count": 93,
     "metadata": {},
     "output_type": "execute_result"
    }
   ],
   "source": [
    "interzonal_dist.head()"
   ]
  },
  {
   "cell_type": "markdown",
   "metadata": {},
   "source": [
    "Considering only the rows for LaGuaradia as pick-up"
   ]
  },
  {
   "cell_type": "code",
   "execution_count": 94,
   "metadata": {},
   "outputs": [],
   "source": [
    "input_data_filter = input_data[input_data['PULocationID'] == 138]"
   ]
  },
  {
   "cell_type": "code",
   "execution_count": 95,
   "metadata": {},
   "outputs": [
    {
     "name": "stderr",
     "output_type": "stream",
     "text": [
      "/home/harish/anaconda3/envs/adbms/lib/python3.6/site-packages/ipykernel_launcher.py:1: SettingWithCopyWarning: \n",
      "A value is trying to be set on a copy of a slice from a DataFrame.\n",
      "Try using .loc[row_indexer,col_indexer] = value instead\n",
      "\n",
      "See the caveats in the documentation: https://pandas.pydata.org/pandas-docs/stable/user_guide/indexing.html#returning-a-view-versus-a-copy\n",
      "  \"\"\"Entry point for launching an IPython kernel.\n"
     ]
    },
    {
     "data": {
      "text/html": [
       "<div>\n",
       "<style scoped>\n",
       "    .dataframe tbody tr th:only-of-type {\n",
       "        vertical-align: middle;\n",
       "    }\n",
       "\n",
       "    .dataframe tbody tr th {\n",
       "        vertical-align: top;\n",
       "    }\n",
       "\n",
       "    .dataframe thead th {\n",
       "        text-align: right;\n",
       "    }\n",
       "</style>\n",
       "<table border=\"1\" class=\"dataframe\">\n",
       "  <thead>\n",
       "    <tr style=\"text-align: right;\">\n",
       "      <th></th>\n",
       "      <th>id</th>\n",
       "      <th>tpep_pickup_datetime</th>\n",
       "      <th>tpep_dropoff_datetime</th>\n",
       "      <th>passenger_count</th>\n",
       "      <th>PULocationID</th>\n",
       "      <th>DOLocationID</th>\n",
       "      <th>Distance</th>\n",
       "    </tr>\n",
       "  </thead>\n",
       "  <tbody>\n",
       "    <tr>\n",
       "      <th>0</th>\n",
       "      <td>6606</td>\n",
       "      <td>2019-01-01 00:15:49</td>\n",
       "      <td>2019-01-01 00:50:03</td>\n",
       "      <td>1</td>\n",
       "      <td>138</td>\n",
       "      <td>181</td>\n",
       "      <td>18452.4</td>\n",
       "    </tr>\n",
       "    <tr>\n",
       "      <th>2</th>\n",
       "      <td>1086</td>\n",
       "      <td>2019-01-01 00:19:03</td>\n",
       "      <td>2019-01-01 00:39:35</td>\n",
       "      <td>2</td>\n",
       "      <td>138</td>\n",
       "      <td>181</td>\n",
       "      <td>18452.4</td>\n",
       "    </tr>\n",
       "    <tr>\n",
       "      <th>3</th>\n",
       "      <td>24</td>\n",
       "      <td>2019-01-01 00:19:55</td>\n",
       "      <td>2019-01-01 00:57:56</td>\n",
       "      <td>1</td>\n",
       "      <td>138</td>\n",
       "      <td>50</td>\n",
       "      <td>13516.1</td>\n",
       "    </tr>\n",
       "  </tbody>\n",
       "</table>\n",
       "</div>"
      ],
      "text/plain": [
       "     id tpep_pickup_datetime tpep_dropoff_datetime  passenger_count  \\\n",
       "0  6606  2019-01-01 00:15:49   2019-01-01 00:50:03                1   \n",
       "2  1086  2019-01-01 00:19:03   2019-01-01 00:39:35                2   \n",
       "3    24  2019-01-01 00:19:55   2019-01-01 00:57:56                1   \n",
       "\n",
       "   PULocationID  DOLocationID  Distance  \n",
       "0           138           181   18452.4  \n",
       "2           138           181   18452.4  \n",
       "3           138            50   13516.1  "
      ]
     },
     "execution_count": 95,
     "metadata": {},
     "output_type": "execute_result"
    }
   ],
   "source": [
    "input_data_filter[\"Distance\"] = input_data_filter.apply(lambda row: interzonal_dist.iloc[row[\"PULocationID\"]-1, row[\"DOLocationID\"]-1], axis=1)\n",
    "input_data_filter"
   ]
  },
  {
   "cell_type": "markdown",
   "metadata": {},
   "source": [
    "Setting ID column as index for faster operations"
   ]
  },
  {
   "cell_type": "code",
   "execution_count": 96,
   "metadata": {},
   "outputs": [],
   "source": [
    "input_data_filter.set_index(\"id\", drop=True, inplace=True)"
   ]
  },
  {
   "cell_type": "markdown",
   "metadata": {},
   "source": [
    "Creating a directed graph and adding nodes to it. Each node is just the ID number of the ride"
   ]
  },
  {
   "cell_type": "code",
   "execution_count": 97,
   "metadata": {},
   "outputs": [],
   "source": [
    "DG = nx.DiGraph()\n",
    "index_list = input_data_filter.index.tolist()\n",
    "DG.add_nodes_from(index_list)"
   ]
  },
  {
   "cell_type": "code",
   "execution_count": 98,
   "metadata": {},
   "outputs": [
    {
     "data": {
      "image/png": "[encoded data removed]",
      "text/plain": [
       "<Figure size 432x288 with 1 Axes>"
      ]
     },
     "metadata": {},
     "output_type": "display_data"
    }
   ],
   "source": [
    "nx.draw(DG, with_labels=True)"
   ]
  },
  {
   "cell_type": "markdown",
   "metadata": {},
   "source": [
    "The loop that adds edges and their corresponding weights to the graph. This is n^2."
   ]
  },
  {
   "cell_type": "code",
   "execution_count": 99,
   "metadata": {},
   "outputs": [],
   "source": [
    "for index1, index2 in combinations(index_list, 2):\n",
    "    Da = input_data_filter.loc[index1, \"Distance\"]\n",
    "    Db = input_data_filter.loc[index2, \"Distance\"]\n",
    "    Dab = interzonal_dist.iloc[\n",
    "        input_data_filter.loc[index1, \"DOLocationID\"]-1, \n",
    "        input_data_filter.loc[index2, \"DOLocationID\"]-1\n",
    "    ]\n",
    "    Dba = interzonal_dist.iloc[\n",
    "        input_data_filter.loc[index2, \"DOLocationID\"]-1, \n",
    "        input_data_filter.loc[index1, \"DOLocationID\"]-1\n",
    "    ]\n",
    "    \n",
    "    Dmin = min(Da + Dab, Db + Dba)\n",
    "    distance_savings = Da + Db - Dmin\n",
    "    weight = distance_savings / (Da + Db)\n",
    "    DG.add_edge(index1, index2, weight=weight)"
   ]
  },
  {
   "cell_type": "code",
   "execution_count": 100,
   "metadata": {},
   "outputs": [
    {
     "data": {
      "text/plain": [
       "{(6606, 1086): Text(-0.31179541249164716, -0.4999999999999999, '0.5'),\n",
       " (6606,\n",
       "  24): Text(0.39872496805521324, 0.22420909552314072, '0.1599167930932011'),\n",
       " (1086,\n",
       "  24): Text(-0.08692955556356607, 0.2757909044768594, '0.1599167930932011')}"
      ]
     },
     "execution_count": 100,
     "metadata": {},
     "output_type": "execute_result"
    },
    {
     "data": {
      "image/png": "[encoded data removed]",
      "text/plain": [
       "<Figure size 432x288 with 1 Axes>"
      ]
     },
     "metadata": {},
     "output_type": "display_data"
    }
   ],
   "source": [
    "pos = nx.spring_layout(DG)\n",
    "nx.draw(DG, pos, with_labels=True)\n",
    "labels = nx.get_edge_attributes(DG,'weight')\n",
    "nx.draw_networkx_edge_labels(DG, pos, edge_labels=labels)"
   ]
  },
  {
   "cell_type": "markdown",
   "metadata": {},
   "source": [
    "Both 1086 and 6606 are going to the same location, so the amount of distance saved is exactly 0.5. Does this make sense?"
   ]
  }
 ],
 "metadata": {
  "kernelspec": {
   "display_name": "Python 3",
   "language": "python",
   "name": "python3"
  },
  "language_info": {
   "codemirror_mode": {
    "name": "ipython",
    "version": 3
   },
   "file_extension": ".py",
   "mimetype": "text/x-python",
   "name": "python",
   "nbconvert_exporter": "python",
   "pygments_lexer": "ipython3",
   "version": "3.6.13"
  }
 },
 "nbformat": 4,
 "nbformat_minor": 2
}
