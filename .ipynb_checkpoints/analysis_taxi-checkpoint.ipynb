{
 "cells": [
  {
   "cell_type": "code",
   "execution_count": null,
   "metadata": {},
   "outputs": [],
   "source": [
    "import pandas as pd\n",
    "from datetime import datetime, timedelta\n",
    "import numpy as np\n",
    "import folium\n"
   ]
  },
  {
   "cell_type": "code",
   "execution_count": null,
   "metadata": {},
   "outputs": [],
   "source": [
    "# dateparse = lambda x: datetime.strptime(x, '%Y-%m-%d %H:%M:%S')\n",
    "df = pd.read_pickle(r\"data\\final_input_data.pkl\")"
   ]
  },
  {
   "cell_type": "code",
   "execution_count": null,
   "metadata": {},
   "outputs": [],
   "source": [
    "df[df.tpep_pickup_datetime == df.tpep_dropoff_datetime]"
   ]
  },
  {
   "cell_type": "code",
   "execution_count": null,
   "metadata": {},
   "outputs": [],
   "source": [
    "\n",
    "def generateBaseMap(default_location=[40.712799072, -74.005996704], default_zoom_start=11):\n",
    "    base_map = folium.Map(location=default_location, \n",
    "                          control_scale=True, \n",
    "                          zoom_start=default_zoom_start)\n",
    "    \n",
    "    return base_map\n"
   ]
  },
  {
   "cell_type": "code",
   "execution_count": null,
   "metadata": {
    "scrolled": false
   },
   "outputs": [],
   "source": [
    "df_copy = df.copy()\n",
    "from folium.plugins import HeatMap\n",
    "df_copy['count'] = 1\n",
    "base_map = generateBaseMap()\n",
    "folium.Marker(\n",
    "        location=[40.7730135746, -73.8702298524],\n",
    "        popup='LaGuardia',\n",
    "        icon=folium.DivIcon(html=f\"\"\"<div style=\"font-family: courier new; color: red\">\"Laguardia\"</div>\"\"\")\n",
    "    ).add_to(base_map)\n",
    "\n",
    "HeatMap(\n",
    "    data=df_copy[['pickup_latitude', 'pickup_longitude', 'count']]\n",
    "                    .groupby(['pickup_latitude', 'pickup_longitude'])\n",
    "                    .sum()\n",
    "                    .reset_index()\n",
    "                    .values\n",
    "                    .tolist(), \n",
    "    radius=8, \n",
    "    max_zoom=13).add_to(base_map)"
   ]
  },
  {
   "cell_type": "code",
   "execution_count": null,
   "metadata": {},
   "outputs": [],
   "source": [
    "base_map\n"
   ]
  },
  {
   "cell_type": "code",
   "execution_count": null,
   "metadata": {},
   "outputs": [],
   "source": [
    "df_copy_2 = df.copy()\n",
    "from folium.plugins import HeatMap\n",
    "df_copy_2['count'] = 1\n",
    "base_map_2 = generateBaseMap()\n",
    "folium.Marker(\n",
    "        location=[40.7730135746, -73.8702298524],\n",
    "        popup='LaGuardia',\n",
    "        icon=folium.DivIcon(html=f\"\"\"<div style=\"font-family: courier new; color: red\">\"Laguardia\"</div>\"\"\")\n",
    "    ).add_to(base_map_2)\n",
    "\n",
    "HeatMap(\n",
    "    data=df_copy_2[['dropoff_latitude', 'dropoff_longitude', 'count']]\n",
    "                    .groupby(['dropoff_latitude', 'dropoff_longitude'])\n",
    "                    .sum()\n",
    "                    .reset_index()\n",
    "                    .values\n",
    "                    .tolist(), \n",
    "    radius=2, \n",
    "    max_zoom=13).add_to(base_map_2)"
   ]
  },
  {
   "cell_type": "code",
   "execution_count": null,
   "metadata": {},
   "outputs": [],
   "source": [
    "# 40.7769° N, 73.8740° W\n",
    "df.isnull().sum()"
   ]
  },
  {
   "cell_type": "code",
   "execution_count": null,
   "metadata": {},
   "outputs": [],
   "source": [
    "df[\"pickup_dayofweek\"] = df.tpep_pickup_datetime.dt.dayofweek\n",
    "df[\"pickup_weekday_name\"] = df.tpep_pickup_datetime.dt.day_name()\n",
    "df[\"pickup_hour\"] = df.tpep_pickup_datetime.dt.hour\n",
    "df[\"pickup_month\"] = df.tpep_pickup_datetime.dt.month\n"
   ]
  },
  {
   "cell_type": "code",
   "execution_count": null,
   "metadata": {},
   "outputs": [],
   "source": [
    "import matplotlib.pyplot as plt\n",
    "import seaborn as sns\n",
    "plt.figure(figsize=(12,8))\n",
    "sns.countplot(x=\"pickup_hour\", data=df)\n",
    "plt.show()"
   ]
  },
  {
   "cell_type": "code",
   "execution_count": null,
   "metadata": {},
   "outputs": [],
   "source": [
    "plt.figure(figsize=(12,8))\n",
    "sns.countplot(x=\"pickup_month\", data=df)\n",
    "plt.show()"
   ]
  },
  {
   "cell_type": "code",
   "execution_count": null,
   "metadata": {
    "scrolled": true
   },
   "outputs": [],
   "source": [
    "plt.figure(figsize=(12,8))\n",
    "sns.countplot(x=\"pickup_weekday_name\", data=df)\n",
    "plt.show()"
   ]
  },
  {
   "cell_type": "code",
   "execution_count": null,
   "metadata": {},
   "outputs": [],
   "source": [
    "df['trip_duration'] = (df['tpep_dropoff_datetime'] - df['tpep_pickup_datetime']).dt.total_seconds()\n"
   ]
  },
  {
   "cell_type": "code",
   "execution_count": null,
   "metadata": {},
   "outputs": [],
   "source": [
    "df.trip_duration.describe()"
   ]
  },
  {
   "cell_type": "code",
   "execution_count": null,
   "metadata": {
    "scrolled": false
   },
   "outputs": [],
   "source": [
    "df_agg = df.groupby('pickup_weekday_name')['trip_duration'].aggregate(np.median).reset_index()\n",
    "\n",
    "plt.figure(figsize=(12,8))\n",
    "sns.pointplot(df_agg.pickup_weekday_name.values, df_agg.trip_duration.values)\n",
    "plt.show()"
   ]
  },
  {
   "cell_type": "code",
   "execution_count": null,
   "metadata": {},
   "outputs": [],
   "source": [
    "df.groupby('pickup_weekday_name')['trip_duration'].describe()"
   ]
  },
  {
   "cell_type": "code",
   "execution_count": null,
   "metadata": {},
   "outputs": [],
   "source": [
    "df_agg = df.groupby('pickup_hour')['trip_duration'].aggregate(np.median).reset_index()\n",
    "\n",
    "plt.figure(figsize=(12,8))\n",
    "sns.pointplot(df_agg.pickup_hour.values, df_agg.trip_duration.values)\n",
    "plt.show()"
   ]
  },
  {
   "cell_type": "code",
   "execution_count": null,
   "metadata": {},
   "outputs": [],
   "source": [
    "df.groupby('pickup_hour')['trip_duration'].describe()"
   ]
  },
  {
   "cell_type": "code",
   "execution_count": null,
   "metadata": {},
   "outputs": [],
   "source": [
    "df_agg = df.groupby('pickup_month')['trip_duration'].aggregate(np.median).reset_index()\n",
    "\n",
    "plt.figure(figsize=(12,8))\n",
    "sns.pointplot(df_agg.pickup_month.values, df_agg.trip_duration.values)\n",
    "plt.show()"
   ]
  },
  {
   "cell_type": "code",
   "execution_count": null,
   "metadata": {},
   "outputs": [],
   "source": [
    "df.groupby('pickup_month')['trip_duration'].describe()"
   ]
  },
  {
   "cell_type": "code",
   "execution_count": null,
   "metadata": {
    "scrolled": true
   },
   "outputs": [],
   "source": [
    "base_map_2"
   ]
  }
 ],
 "metadata": {
  "kernelspec": {
   "display_name": "Python 3",
   "language": "python",
   "name": "python3"
  },
  "language_info": {
   "codemirror_mode": {
    "name": "ipython",
    "version": 3
   },
   "file_extension": ".py",
   "mimetype": "text/x-python",
   "name": "python",
   "nbconvert_exporter": "python",
   "pygments_lexer": "ipython3",
   "version": "3.8.5"
  }
 },
 "nbformat": 4,
 "nbformat_minor": 4
}
